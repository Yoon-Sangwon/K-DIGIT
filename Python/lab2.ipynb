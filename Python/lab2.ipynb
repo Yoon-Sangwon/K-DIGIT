{
 "cells": [
  {
   "cell_type": "code",
   "execution_count": 89,
   "metadata": {},
   "outputs": [
    {
     "name": "stdout",
     "output_type": "stream",
     "text": [
      "[<h1> 태그의 컨텐트] HTML의 링크 태그\n",
      "[텍스트 형식으로 내용을 가지고 있는 <a> 태그의 컨텐트와 href 속성값]\n",
      "World Wide Consortium : http://www.w3.org/\n",
      "Java Page : http://java.sun.com/\n",
      "Python Page : http://www.python.org/\n",
      "Web Client 기술 학습 : http://www.w3schools.com/\n",
      "\n",
      " : http://java.sun.com/\n",
      "[<img> 태그의 src 속성값] : http://unico2013.dothome.co.kr/image/duke.jpg\n",
      "[첫 번째 <h2> 태그의 컨텐트] 좋아하는 색\n",
      "[<ul> 태그의 자식 태그들중 style 속성의 값이 green으로 끝나는 태그의 컨텐트] 녹색\n",
      "[두 번째 <h2> 태그의 컨텐트] 먹고싶은 음식\n",
      "[<ul> 태그의 모든 자식 태그들의 컨텐트]\n",
      "파란색\n",
      "노란색\n",
      "녹색\n",
      "주황색\n",
      "\n",
      "[<table> 태그의 모든 자식 태그들의 컨텐트]\n",
      "둘리또치도우너\n",
      "케라토사우루스타조외계인\n",
      "도봉구 쌍문동아프리카깐따삐아 별\n",
      "\n",
      "[name이라는 클래스 속성을 갖는 <tr> 태그의 컨텐트] 둘리또치도우너\n",
      "[target이라는 클래스 속성을 갖는 <td> 태그의 컨텐트] 아프리카\n"
     ]
    }
   ],
   "source": [
    "import requests\n",
    "from bs4 import BeautifulSoup\n",
    "req = requests.get('http://unico2013.dothome.co.kr/crawling/exercise_bs.html')\n",
    "html_doc = req.content\n",
    "html_doc = html_doc.decode('utf-8')\n",
    "bs = BeautifulSoup(html_doc, 'html.parser')\n",
    "\n",
    "print(\"[<h1> 태그의 컨텐트]\", bs.h1.string)\n",
    "\n",
    "print(\"[텍스트 형식으로 내용을 가지고 있는 <a> 태그의 컨텐트와 href 속성값]\")\n",
    "a = bs.find_all('a')\n",
    "for content in a:\n",
    "    print(content.text, \":\", content[\"href\"])\n",
    "\n",
    "img = bs.find_all('img')\n",
    "for content in img:\n",
    "    print(\"[<img> 태그의 src 속성값] :\", content[\"src\"])\n",
    "\n",
    "'''\n",
    "print(bs.img['src'])\n",
    "'''\n",
    "\n",
    "print(\"[첫 번째 <h2> 태그의 컨텐트]\", bs.find_all('h2')[0].text)\n",
    "\n",
    "print(\"[<ul> 태그의 자식 태그들중 style 속성의 값이 green으로 끝나는 태그의 컨텐트]\", bs.ul.find(style = re.compile('green$')).text)\n",
    "\n",
    "'''\n",
    "print(bs.ul.find(style = re.compile('green$')))\n",
    "'''\n",
    "\n",
    "print(\"[두 번째 <h2> 태그의 컨텐트]\", bs.find_all('h2')[1].text)\n",
    "\n",
    "print(\"[<ul> 태그의 모든 자식 태그들의 컨텐트]\", end = \"\")\n",
    "print(bs.ul.text)\n",
    "\n",
    "print(\"[<table> 태그의 모든 자식 태그들의 컨텐트]\", end = \"\")\n",
    "table = bs.find_all('table')\n",
    "for content in table:\n",
    "    print(content.text)\n",
    "\n",
    "print(\"[name이라는 클래스 속성을 갖는 <tr> 태그의 컨텐트]\", end = \" \")\n",
    "tr = bs.find_all('tr', class_ = \"name\")\n",
    "for content in tr:\n",
    "    print(content.text)\n",
    "\n",
    "print(\"[target이라는 클래스 속성을 갖는 <td> 태그의 컨텐트]\", end = \" \")\n",
    "td = bs.find_all('td', id = \"target\")\n",
    "for content in td:\n",
    "    print(content.text)"
   ]
  }
 ],
 "metadata": {
  "kernelspec": {
   "display_name": "pydatavenv",
   "language": "python",
   "name": "pydatavenv"
  },
  "language_info": {
   "codemirror_mode": {
    "name": "ipython",
    "version": 3
   },
   "file_extension": ".py",
   "mimetype": "text/x-python",
   "name": "python",
   "nbconvert_exporter": "python",
   "pygments_lexer": "ipython3",
   "version": "3.8.8"
  }
 },
 "nbformat": 4,
 "nbformat_minor": 4
}
