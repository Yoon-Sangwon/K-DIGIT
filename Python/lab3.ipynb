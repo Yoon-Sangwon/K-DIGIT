{
 "cells": [
  {
   "cell_type": "code",
   "execution_count": 12,
   "metadata": {},
   "outputs": [],
   "source": [
    "import requests\n",
    "from bs4 import BeautifulSoup\n",
    "import re\n",
    "\n",
    "req = requests.get('http://media.daum.net/ranking/popular/')\n",
    "html = req.text\n",
    "soup = BeautifulSoup(html, 'html.parser')\n",
    "titles = soup.select('div.cont_thumb > strong > a')\n",
    "names = soup.select('div.cont_thumb > strong > span')\n",
    "newstitle = []\n",
    "newscomname = []\n",
    "total = []\n",
    "\n",
    "for content in titles:\n",
    "    newstitle.append(content.text)\n",
    "\n",
    "for content in names:\n",
    "    newscomname.append(content.text)\n",
    "\n",
    "with open('output/news3.csv', \"wt\", encoding=\"utf-8\") as f:\n",
    "    f.write('newstitle,newscomname\\n')  \n",
    "    for i in range(50):\n",
    "        f.write(newstitle[i]+\",\"+newscomname[i]+'\\n')"
   ]
  }
 ],
 "metadata": {
  "kernelspec": {
   "display_name": "pydatavenv",
   "language": "python",
   "name": "pydatavenv"
  },
  "language_info": {
   "codemirror_mode": {
    "name": "ipython",
    "version": 3
   },
   "file_extension": ".py",
   "mimetype": "text/x-python",
   "name": "python",
   "nbconvert_exporter": "python",
   "pygments_lexer": "ipython3",
   "version": "3.8.8"
  }
 },
 "nbformat": 4,
 "nbformat_minor": 4
}
